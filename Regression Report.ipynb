{
 "cells": [
  {
   "cell_type": "markdown",
   "metadata": {
    "slideshow": {
     "slide_type": "-"
    }
   },
   "source": [
    "# Regression Analysis "
   ]
  },
  {
   "cell_type": "markdown",
   "metadata": {},
   "source": [
    "In this linear regression analysis, our dependent variable is the amount of malnourished children( between ages 0 and 5), with a total of 8\n",
    "independent variables. Each of the independent variables and the dependent variables have been calculated by their population ratio (for example, in the\n",
    "case of finding the sanitation factor, the number of households without toilets was divided by the total number of households in that sub district/\n",
    "taluka)"
   ]
  },
  {
   "cell_type": "markdown",
   "metadata": {},
   "source": [
    "Requirements:\n",
    "\n",
    "-Python 3.6 \n",
    "\n",
    "-Python packages:\n",
    "\n",
    "    - pandas\n",
    "    - numpy\n",
    "    - statsmodels\n",
    "    - sklearn\n",
    "    - matplotlib\n",
    "    \n",
    "This code was run through the Jupyter notebook IDE with Python 3.6.5"
   ]
  },
  {
   "cell_type": "markdown",
   "metadata": {},
   "source": [
    "###   Regression using all factors"
   ]
  },
  {
   "cell_type": "code",
   "execution_count": 1,
   "metadata": {
    "scrolled": true
   },
   "outputs": [
    {
     "name": "stdout",
     "output_type": "stream",
     "text": [
      "\n",
      "\n",
      "Root mean squared error:  0.07375016008765832\n",
      "Score of the model is  0.4888003913043203\n"
     ]
    }
   ],
   "source": [
    "import pandas as pd\n",
    "import numpy as np\n",
    "import statsmodels.api as sm\n",
    "\n",
    "df= pd.read_csv(\"C:/Users/Vinayak/Documents/CSTEP/Pentaho Datasets/Combined data.csv\")\n",
    "X =df[['Illiteracy Factor'  ,'Rural Factor'  ,'Water Quality Factor',\n",
    "       'Not Working Factor','Sanitation Factor'\n",
    "       ,'Water Location Factor','Women Illiteracy Factor',\n",
    "       'Women Workforce Factor']]\n",
    "y = df['Total UW 0-5 years']\n",
    "\n",
    "from sklearn.model_selection import train_test_split\n",
    "x_train,x_test,y_train,y_test=train_test_split(X,y,test_size=0.2,random_state=4)\n",
    "\n",
    "\n",
    "from sklearn import linear_model\n",
    "from sklearn.model_selection import train_test_split\n",
    "regr= linear_model.LinearRegression()\n",
    "\n",
    "regr.fit(x_train,y_train)\n",
    "print('\\n')\n",
    "\n",
    "from sklearn.metrics import mean_squared_error\n",
    "from math import sqrt\n",
    "\n",
    "print('Root mean squared error: ',sqrt(mean_squared_error\n",
    "                                       (regr.predict(x_test),y_test)))\n",
    "print('Score of the model is ',regr.score(x_test,y_test))"
   ]
  },
  {
   "cell_type": "markdown",
   "metadata": {},
   "source": [
    "From the dataset, we are able to gather 8 factors. To make the model more robust, we can apply several algorithms to remove \n",
    "any unimportant independant factors from the linear regression model. Here, we've taken the step wise regression algorithm, \n",
    "which compares p-values of factors and adds/drops them based on their values compared to the chosen significance level(0.05)\n"
   ]
  },
  {
   "cell_type": "markdown",
   "metadata": {},
   "source": [
    "### Step wise Regression and then generating the regression anaylsis report"
   ]
  },
  {
   "cell_type": "code",
   "execution_count": 2,
   "metadata": {},
   "outputs": [
    {
     "name": "stdout",
     "output_type": "stream",
     "text": [
      "Add  Water Location Factor          with p-value 5.62152e-14\n",
      "Add  Sanitation Factor              with p-value 0.00369948\n",
      "Add  Not Working Factor             with p-value 0.00207395\n",
      "Add  Women Workforce Factor         with p-value 0.00242309\n",
      "Drop Water Location Factor          with p-value 0.0909087\n",
      "resulting features:\n",
      "['Sanitation Factor', 'Not Working Factor', 'Women Workforce Factor']\n",
      "                            OLS Regression Results                            \n",
      "==============================================================================\n",
      "Dep. Variable:     Total UW 0-5 years   R-squared:                       0.455\n",
      "Model:                            OLS   Adj. R-squared:                  0.443\n",
      "Method:                 Least Squares   F-statistic:                     36.77\n",
      "Date:                Wed, 13 Jun 2018   Prob (F-statistic):           2.43e-17\n",
      "Time:                        16:04:19   Log-Likelihood:                 156.25\n",
      "No. Observations:                 136   AIC:                            -304.5\n",
      "Df Residuals:                     132   BIC:                            -292.8\n",
      "Df Model:                           3                                         \n",
      "Covariance Type:            nonrobust                                         \n",
      "==========================================================================================\n",
      "                             coef    std err          t      P>|t|      [0.025      0.975]\n",
      "------------------------------------------------------------------------------------------\n",
      "const                     -1.6266      0.294     -5.542      0.000      -2.207      -1.046\n",
      "Sanitation Factor          0.1499      0.035      4.263      0.000       0.080       0.219\n",
      "Not Working Factor         2.4678      0.418      5.903      0.000       1.641       3.295\n",
      "Women Workforce Factor     1.2300      0.259      4.752      0.000       0.718       1.742\n",
      "==============================================================================\n",
      "Omnibus:                        1.246   Durbin-Watson:                   2.045\n",
      "Prob(Omnibus):                  0.536   Jarque-Bera (JB):                0.911\n",
      "Skew:                          -0.188   Prob(JB):                        0.634\n",
      "Kurtosis:                       3.138   Cond. No.                         113.\n",
      "==============================================================================\n",
      "\n",
      "Warnings:\n",
      "[1] Standard Errors assume that the covariance matrix of the errors is correctly specified.\n",
      "\n",
      "\n",
      "Regression Intercept is  -1.6266179861029055\n",
      "Coefficients are  [0.14987203 2.46783384 1.2300421 ]\n",
      "\n",
      "\n"
     ]
    },
    {
     "name": "stderr",
     "output_type": "stream",
     "text": [
      "C:\\Users\\Vinayak\\Anaconda3\\lib\\site-packages\\ipykernel_launcher.py:21: FutureWarning: 'argmin' is deprecated. Use 'idxmin' instead. The behavior of 'argmin' will be corrected to return the positional minimum in the future. Use 'series.values.argmin' to get the position of the minimum now.\n",
      "C:\\Users\\Vinayak\\Anaconda3\\lib\\site-packages\\ipykernel_launcher.py:34: FutureWarning: 'argmax' is deprecated. Use 'idxmax' instead. The behavior of 'argmax' will be corrected to return the positional maximum in the future. Use 'series.values.argmax' to get the position of the maximum now.\n"
     ]
    }
   ],
   "source": [
    "\n",
    "df= pd.read_csv(\"C:/Users/Vinayak/Documents/CSTEP/Pentaho Datasets/Combined data.csv\")\n",
    "X =df[['Illiteracy Factor'  ,'Rural Factor'  ,'Water Quality Factor',\n",
    "       'Not Working Factor','Sanitation Factor','Water Location Factor'\n",
    "       ,'Women Illiteracy Factor','Women Workforce Factor']]\n",
    "y = df['Total UW 0-5 years']\n",
    "\n",
    "x_train,x_test,y_train,y_test=train_test_split(X,y,test_size=0.2,random_state=4)\n",
    "X=x_train\n",
    "y=y_train\n",
    "def stepwise_selection(X, y,initial_list=[], threshold_in=0.01, threshold_out = 0.05,\n",
    "                       verbose=True):\n",
    "    included = list(initial_list)\n",
    "    while True:\n",
    "        changed=False\n",
    "        # forward step\n",
    "        excluded = list(set(X.columns)-set(included))\n",
    "        new_pval = pd.Series(index=excluded)\n",
    "        for new_column in excluded:\n",
    "            model = sm.OLS(y, sm.add_constant\n",
    "                           (pd.DataFrame(X[included+[new_column]]))).fit()\n",
    "            new_pval[new_column] = model.pvalues[new_column]\n",
    "        best_pval = new_pval.min()\n",
    "        if best_pval < threshold_in:\n",
    "            best_feature = new_pval.argmin()\n",
    "            included.append(best_feature)\n",
    "            changed=True\n",
    "            if verbose:\n",
    "                print('Add  {:30} with p-value {:.6}'.\n",
    "                      format(best_feature, best_pval))\n",
    "\n",
    "        # backward step\n",
    "        model = sm.OLS(y, sm.add_constant(pd.DataFrame(X[included]))).fit()\n",
    "        # use all coefs except intercept\n",
    "        pvalues = model.pvalues.iloc[1:]\n",
    "        worst_pval = pvalues.max() # null if pvalues is empty\n",
    "        if worst_pval > threshold_out:\n",
    "            changed=True\n",
    "            worst_feature = pvalues.argmax()\n",
    "            included.remove(worst_feature)\n",
    "            if verbose:\n",
    "                print('Drop {:30} with p-value {:.6}'.\n",
    "                      format(worst_feature, worst_pval))\n",
    "        if not changed:\n",
    "            break\n",
    "    return included\n",
    "\n",
    "result = stepwise_selection(X, y)\n",
    "print('resulting features:')\n",
    "print(result)\n",
    "\n",
    "X=X[result]\n",
    "model1=sm.OLS(y,sm.add_constant(X))\n",
    "result=model1.fit()\n",
    "print(result.summary())\n",
    "from sklearn import linear_model\n",
    "\n",
    "regr= linear_model.LinearRegression()\n",
    "regr.fit(X,y)\n",
    "\n",
    "print('\\n')\n",
    "print(\"Regression Intercept is \",regr.intercept_)\n",
    "print(\"Coefficients are \",regr.coef_)\n",
    "print('\\n')\n",
    "\n"
   ]
  },
  {
   "cell_type": "code",
   "execution_count": 3,
   "metadata": {},
   "outputs": [
    {
     "name": "stdout",
     "output_type": "stream",
     "text": [
      "\n",
      "\n",
      "Root mean squared error:  0.07258791191170855\n",
      "Score of the model is  0.5047856908985455\n"
     ]
    }
   ],
   "source": [
    "\n",
    "df= pd.read_csv(\"C:/Users/Vinayak/Documents/CSTEP/Pentaho Datasets/Combined data.csv\")\n",
    "X =df[['Women Workforce Factor'  ,'Not Working Factor'  ,'Sanitation Factor']]\n",
    "y = df['Total UW 0-5 years']\n",
    "\n",
    "x_train,x_test,y_train,y_test=train_test_split(X,y,test_size=0.2,random_state=4)\n",
    "\n",
    "from sklearn import linear_model\n",
    "from sklearn.model_selection import train_test_split\n",
    "regr= linear_model.LinearRegression()\n",
    "\n",
    "regr.fit(x_train,y_train)\n",
    "print('\\n')\n",
    "\n",
    "from sklearn.metrics import mean_squared_error\n",
    "from math import sqrt\n",
    "\n",
    "print('Root mean squared error: ',\n",
    "      sqrt(mean_squared_error(regr.predict(x_test),y_test)))\n",
    "print('Score of the model is ',regr.score(x_test,y_test))"
   ]
  },
  {
   "cell_type": "markdown",
   "metadata": {},
   "source": [
    "Hence, we were able to reduce the number of independent variables to three factors, Sanitation,Not Working and Women Workforce factor. \n"
   ]
  },
  {
   "cell_type": "markdown",
   "metadata": {},
   "source": [
    "### Using other Machine Learning Models to train and test the data"
   ]
  },
  {
   "cell_type": "markdown",
   "metadata": {},
   "source": [
    "####  Support Vector Machine"
   ]
  },
  {
   "cell_type": "code",
   "execution_count": 5,
   "metadata": {},
   "outputs": [],
   "source": [
    "from sklearn.model_selection import train_test_split\n",
    "import numpy as np\n",
    "\n",
    "df= pd.read_csv(\"C:/Users/Vinayak/Documents/CSTEP/Pentaho Datasets/Combined data.csv\")\n",
    "\n",
    "df_x =df[['Illiteracy Factor'  ,'Rural Factor','Water Quality Factor',\n",
    "          'Not Working Factor','Sanitation Factor','Water Location Factor',\n",
    "          'Women Illiteracy Factor','Women Workforce Factor']]\n",
    "df_y = df['Total UW 0-5 years']\n",
    "x_train,x_test,y_train,y_test=train_test_split(df_x,df_y,test_size=0.2,random_state=4)\n"
   ]
  },
  {
   "cell_type": "code",
   "execution_count": 6,
   "metadata": {
    "scrolled": true
   },
   "outputs": [
    {
     "name": "stdout",
     "output_type": "stream",
     "text": [
      "Coefficients\n",
      "[[ 1.00000000e+00 -1.00000000e+00  1.00000000e+00 -1.00000000e+00\n",
      "  -1.00000000e+00 -1.00000000e+00  1.00000000e+00 -1.00000000e+00\n",
      "  -1.00000000e+00  2.50229974e-01  1.00000000e+00  1.00000000e+00\n",
      "  -1.00000000e+00  1.00000000e+00  1.00000000e+00  1.00000000e+00\n",
      "  -1.00000000e+00 -1.00000000e+00  7.78176464e-04  1.00000000e+00\n",
      "  -3.17527008e-01  1.00000000e+00 -1.00000000e+00 -1.00000000e+00\n",
      "   1.00000000e+00 -1.00000000e+00 -1.00000000e+00  1.00000000e+00\n",
      "  -1.00000000e+00  1.00000000e+00  1.00000000e+00 -6.48881569e-01\n",
      "   1.00000000e+00  7.15400426e-01 -1.00000000e+00]]\n",
      "Support Vectors \n",
      "[[0.4365 0.9126 0.716  0.5291 0.9033 0.3651 0.5339 0.3994]\n",
      " [0.5138 0.9135 0.4715 0.5434 0.9506 0.4488 0.6141 0.3893]\n",
      " [0.3731 0.8546 0.6939 0.5619 0.8655 0.3754 0.4576 0.3337]\n",
      " [0.4156 0.8461 0.694  0.4997 0.6885 0.1765 0.4859 0.3705]\n",
      " [0.4827 0.8771 0.5845 0.5673 0.9328 0.4534 0.5762 0.3387]\n",
      " [0.4848 0.9178 0.5709 0.5238 0.9351 0.359  0.5784 0.4082]\n",
      " [0.4352 0.8654 0.6895 0.5239 0.8933 0.2821 0.5314 0.3862]\n",
      " [0.446  0.8174 0.6496 0.5479 0.8528 0.2038 0.5231 0.3601]\n",
      " [0.3602 0.8676 0.838  0.4737 0.6975 0.393  0.4398 0.4473]\n",
      " [0.3973 0.6148 0.5663 0.5615 0.8323 0.3356 0.5029 0.3352]\n",
      " [0.456  0.9093 0.6086 0.5654 0.9339 0.4395 0.547  0.3456]\n",
      " [0.4056 0.8906 0.8535 0.4822 0.727  0.0901 0.4785 0.4136]\n",
      " [0.4426 0.893  0.5467 0.5699 0.8165 0.1861 0.4922 0.2424]\n",
      " [0.5469 0.7075 0.4959 0.4877 0.8248 0.3273 0.6377 0.4511]\n",
      " [0.3406 0.8869 0.7077 0.5048 0.7097 0.3164 0.4231 0.3741]\n",
      " [0.5004 0.677  0.5751 0.5825 0.8192 0.3302 0.5812 0.3128]\n",
      " [0.3573 0.8166 0.633  0.4669 0.7766 0.2245 0.433  0.4493]\n",
      " [0.3926 0.8887 0.5144 0.5024 0.7104 0.168  0.4663 0.3477]\n",
      " [0.3441 0.722  0.4141 0.4792 0.8335 0.3368 0.4281 0.4278]\n",
      " [0.3739 0.9311 0.6219 0.5299 0.6995 0.1719 0.4488 0.3378]\n",
      " [0.3252 0.6691 0.3753 0.5446 0.4743 0.1186 0.3837 0.2846]\n",
      " [0.3837 0.7488 0.657  0.5469 0.6375 0.2843 0.4447 0.3066]\n",
      " [0.4445 0.8206 0.7882 0.4733 0.7742 0.2764 0.527  0.444 ]\n",
      " [0.3514 0.7448 0.6085 0.4977 0.6023 0.2414 0.4235 0.404 ]\n",
      " [0.4123 0.79   0.5254 0.5994 0.7961 0.3056 0.4913 0.2806]\n",
      " [0.3727 0.8911 0.804  0.4389 0.8115 0.2439 0.4575 0.4978]\n",
      " [0.3989 0.8673 0.5785 0.5323 0.6905 0.1221 0.4641 0.3083]\n",
      " [0.4277 0.7783 0.5015 0.5588 0.85   0.2825 0.5123 0.3452]\n",
      " [0.3005 0.5197 0.6479 0.5876 0.5719 0.3552 0.3577 0.2591]\n",
      " [0.3588 0.726  0.6934 0.5322 0.8776 0.2927 0.4594 0.3713]\n",
      " [0.4299 0.8882 0.534  0.494  0.7573 0.3062 0.5219 0.4329]\n",
      " [0.4384 0.8237 0.3822 0.5759 0.6901 0.137  0.4862 0.2138]\n",
      " [0.3518 0.5403 0.5242 0.6228 0.5701 0.2394 0.4155 0.233 ]\n",
      " [0.3546 1.     0.6704 0.4948 0.7566 0.3263 0.4332 0.3913]\n",
      " [0.3105 0.8324 0.63   0.4825 0.7223 0.1542 0.3873 0.3952]]\n",
      "Intercept \n",
      "[0.20301189]\n"
     ]
    }
   ],
   "source": [
    "from sklearn import svm\n",
    "model = svm.SVR(kernel='rbf')\n",
    "model.fit(x_train,y_train)\n",
    "#RBF kernel\n",
    "print('Coefficients')\n",
    "print(model.dual_coef_)\n",
    "print('Support Vectors ')\n",
    "print(model.support_vectors_)\n",
    "print('Intercept ')\n",
    "print(model.intercept_)"
   ]
  },
  {
   "cell_type": "code",
   "execution_count": 7,
   "metadata": {
    "scrolled": true
   },
   "outputs": [
    {
     "name": "stdout",
     "output_type": "stream",
     "text": [
      "Root mean squared error:  0.07997852133408363\n",
      "Score of the model is  0.3988105939342975\n"
     ]
    }
   ],
   "source": [
    "from sklearn.metrics import mean_squared_error\n",
    "from math import sqrt\n",
    "print('Root mean squared error: ',\n",
    "      sqrt(mean_squared_error(model.predict(x_test),y_test)))\n",
    "print('Score of the model is ',\n",
    "      model.score(x_test,y_test))"
   ]
  },
  {
   "cell_type": "markdown",
   "metadata": {},
   "source": [
    "####  K-Nearest Neighbors"
   ]
  },
  {
   "cell_type": "code",
   "execution_count": 10,
   "metadata": {},
   "outputs": [],
   "source": [
    "from sklearn.model_selection import train_test_split\n",
    "import numpy as np\n",
    "df_x =df[['Illiteracy Factor'  ,'Rural Factor'  ,'Water Quality Factor',\n",
    "          'Not Working Factor','Sanitation Factor','Water Location Factor',\n",
    "          'Women Illiteracy Factor','Women Workforce Factor']]\n",
    "df_y = df['Total UW 0-5 years']\n",
    "x_train,x_test,y_train,y_test=train_test_split(df_x,df_y,test_size=0.2,random_state=4)\n",
    "\n",
    "from sklearn.neighbors import KNeighborsRegressor\n",
    "neigh = KNeighborsRegressor(n_neighbors=4)"
   ]
  },
  {
   "cell_type": "code",
   "execution_count": 11,
   "metadata": {},
   "outputs": [
    {
     "name": "stdout",
     "output_type": "stream",
     "text": [
      "Root mean squared error:  0.06882901195011745\n",
      "Score of the model is  0.5547461857991336\n"
     ]
    }
   ],
   "source": [
    "neigh.fit(x_train,y_train) \n",
    "from sklearn.metrics import mean_squared_error\n",
    "from math import sqrt\n",
    "\n",
    "print('Root mean squared error: ',sqrt(mean_squared_error(neigh.predict(x_test),y_test)))\n",
    "print('Score of the model is ',neigh.score(x_test,y_test))"
   ]
  },
  {
   "cell_type": "markdown",
   "metadata": {},
   "source": [
    "####  Neural Networks"
   ]
  },
  {
   "cell_type": "code",
   "execution_count": 12,
   "metadata": {},
   "outputs": [],
   "source": [
    "\n",
    "from sklearn.model_selection import train_test_split\n",
    "import numpy as np\n",
    "df_x =df[['Illiteracy Factor'  ,'Rural Factor'  ,'Water Quality Factor',\n",
    "          'Not Working Factor','Sanitation Factor','Water Location Factor',\n",
    "          'Women Illiteracy Factor','Women Workforce Factor']]\n",
    "df_y = df['Total UW 0-5 years']\n",
    "x_train,x_test,y_train,y_test=train_test_split(df_x,df_y,test_size=0.2,random_state=4)\n"
   ]
  },
  {
   "cell_type": "code",
   "execution_count": 13,
   "metadata": {},
   "outputs": [],
   "source": [
    "x_train,x_test,y_train,y_test=train_test_split(df_x,df_y,test_size=0.2,random_state=4)\n",
    "from sklearn.preprocessing import StandardScaler\n",
    "scaler = StandardScaler()\n",
    "# Fit only to the training data\n",
    "scaler.fit(x_train)\n",
    "# Now apply the transformations to the data:\n",
    "x_train = scaler.transform(x_train)\n",
    "x_test = scaler.transform(x_test)"
   ]
  },
  {
   "cell_type": "code",
   "execution_count": 22,
   "metadata": {
    "scrolled": true
   },
   "outputs": [
    {
     "data": {
      "text/plain": [
       "MLPRegressor(activation='relu', alpha=0.0001, batch_size='auto', beta_1=0.9,\n",
       "       beta_2=0.999, early_stopping=False, epsilon=1e-08,\n",
       "       hidden_layer_sizes=(150,), learning_rate='constant',\n",
       "       learning_rate_init=0.001, max_iter=300, momentum=0.9,\n",
       "       nesterovs_momentum=True, power_t=0.5, random_state=None,\n",
       "       shuffle=True, solver='adam', tol=0.0001, validation_fraction=0.1,\n",
       "       verbose=False, warm_start=False)"
      ]
     },
     "execution_count": 22,
     "metadata": {},
     "output_type": "execute_result"
    }
   ],
   "source": [
    "\n",
    "from sklearn.neural_network import MLPRegressor\n",
    "model=MLPRegressor(hidden_layer_sizes=(150,),max_iter=300)\n",
    "model.fit(x_train,y_train)\n"
   ]
  },
  {
   "cell_type": "code",
   "execution_count": 23,
   "metadata": {},
   "outputs": [
    {
     "name": "stdout",
     "output_type": "stream",
     "text": [
      "Root mean squared error:  0.08547167748445296\n",
      "Score of the model is  0.31339172509644597\n"
     ]
    }
   ],
   "source": [
    "#Note that different values are obtainted since the MLPRegressor always create a different neural network each time it is called. \n",
    "#Hence the highest frequent occuring value should be considered then.\n",
    "from sklearn.metrics import mean_squared_error\n",
    "from math import sqrt\n",
    "print('Root mean squared error: ',sqrt(mean_squared_error(model.predict(x_test),y_test)))\n",
    "print('Score of the model is ',model.score(x_test,y_test))"
   ]
  },
  {
   "cell_type": "markdown",
   "metadata": {},
   "source": [
    "### Results"
   ]
  },
  {
   "cell_type": "code",
   "execution_count": 3,
   "metadata": {},
   "outputs": [
    {
     "data": {
      "image/png": "[encoded data removed]",
      "text/plain": [
       "<Figure size 432x288 with 1 Axes>"
      ]
     },
     "metadata": {},
     "output_type": "display_data"
    }
   ],
   "source": [
    "import matplotlib.pyplot as plt\n",
    "scores = [0.5047856908985455, 0.3988105939342975, 0.31339172509644597,0.5547461857991336]\n",
    "algos = ['Linear Regression', 'SVM', 'Neural Networks','KNN']\n",
    "plt.plot(algos, scores, 'go',  )\n",
    "plt.xlabel(\"Different ML Models\")\n",
    "plt.ylabel(\"R² Values\")\n",
    "plt.show()"
   ]
  },
  {
   "cell_type": "code",
   "execution_count": 2,
   "metadata": {},
   "outputs": [
    {
     "data": {
      "image/png": "[encoded data removed]",
      "text/plain": [
       "<Figure size 432x288 with 1 Axes>"
      ]
     },
     "metadata": {},
     "output_type": "display_data"
    }
   ],
   "source": [
    "import matplotlib.pyplot as plt\n",
    "rmse = [0.07375016008765832, 0.07997852133408363, 0.08547167748445296,0.06882901195011745]\n",
    "algos = ['Linear Regression', 'SVM', 'Neural Networks','KNN']\n",
    "plt.plot(algos, rmse, 'go',  )\n",
    "plt.xlabel(\"Different ML Models\")\n",
    "plt.ylabel(\"RMSE Values\")\n",
    "plt.show()"
   ]
  },
  {
   "cell_type": "markdown",
   "metadata": {},
   "source": [
    "<br>\n",
    "Hence it can be seen that KNN had the best results in terms of the Root Mean Square Values and R^2 values, however a more thorough analysis through the\n",
    "means of using several training test splits, cross validation, or even if the data itself changes, can lead to different results. The linear regression\n",
    "model still provides decent values. The neural network model provided the worst results, however it is to be noted that neural networks are generally\n",
    "meant for a much larger dataset.\n",
    "<br>\n",
    "<br>\n",
    "<br>\n",
    "<br>"
   ]
  },
  {
   "cell_type": "markdown",
   "metadata": {},
   "source": [
    "\n",
    "<br>\n",
    "<b style=\"color:red;\">Note some additional changes which can be included in the future:</b>\n",
    "<br>\n",
    "<br>\n",
    "<ul>\n",
    "<li><i>Water quality was taken as a simple scale of either \"Drinkable\" or \"Undrinkable\" , based on whether it came from a handpump, a covered well, uncovered well, handpump , tap water from treated source,etc. A more accurate scale can be taken( like from 1-3), to give a better \"Water Quality Factor\".\n",
    "</i></li><br>\n",
    "<li><i>In the case of the Women Workforce Factor, it is still unclear whether to take the ratio of women working to the total amount of people working, or take it against the total amount of women.</i></li><br>\n",
    "<li><i>Ensuring the independent nature of all the factors( If Workforce factor increases, women workforce factor also increases, hence unclear whether to \n",
    "    include both these factors)</i></li><br>\n",
    " \n"
   ]
  }
 ],
 "metadata": {
  "kernelspec": {
   "display_name": "Python 3",
   "language": "python",
   "name": "python3"
  },
  "language_info": {
   "codemirror_mode": {
    "name": "ipython",
    "version": 3
   },
   "file_extension": ".py",
   "mimetype": "text/x-python",
   "name": "python",
   "nbconvert_exporter": "python",
   "pygments_lexer": "ipython3",
   "version": "3.6.5"
  }
 },
 "nbformat": 4,
 "nbformat_minor": 2
}
